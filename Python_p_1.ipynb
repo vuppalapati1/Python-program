{
 "cells": [
  {
   "cell_type": "code",
   "execution_count": 2,
   "id": "bbb2b5a1",
   "metadata": {},
   "outputs": [
    {
     "name": "stdout",
     "output_type": "stream",
     "text": [
      "Hello Python\n"
     ]
    }
   ],
   "source": [
    "##Write a Python program to print \"Hello Python\"?\n",
    "class Hello:\n",
    "    def test():\n",
    "        print(\"Hello Python\")\n",
    "a=Hello\n",
    "a.test()"
   ]
  },
  {
   "cell_type": "code",
   "execution_count": 6,
   "id": "473e1b1a",
   "metadata": {},
   "outputs": [
    {
     "data": {
      "text/plain": [
       "(10, 4.0)"
      ]
     },
     "execution_count": 6,
     "metadata": {},
     "output_type": "execute_result"
    }
   ],
   "source": [
    "##Write a Python program to do arithmetical operations addition and division.?\n",
    "class Operation:\n",
    "    def arth(x,y):\n",
    "        return x+y, x/y\n",
    "b=Operation\n",
    "b.arth(8,2)\n"
   ]
  },
  {
   "cell_type": "code",
   "execution_count": 7,
   "id": "2e0ed38f",
   "metadata": {},
   "outputs": [
    {
     "data": {
      "text/plain": [
       "6.0"
      ]
     },
     "execution_count": 7,
     "metadata": {},
     "output_type": "execute_result"
    }
   ],
   "source": [
    "##Write a Python program to find the area of a triangle?\n",
    "class triangle:\n",
    "    def area(x,y):\n",
    "        return (x*y)/2\n",
    "c=triangle\n",
    "c.area(3,4)"
   ]
  },
  {
   "cell_type": "code",
   "execution_count": 13,
   "id": "64e777df",
   "metadata": {},
   "outputs": [
    {
     "data": {
      "text/plain": [
       "(2, 1)"
      ]
     },
     "execution_count": 13,
     "metadata": {},
     "output_type": "execute_result"
    }
   ],
   "source": [
    "##Write a Python program to swap two variables?\n",
    "class swap:\n",
    "    def test1(a,b):\n",
    "        temp=a\n",
    "        a=b\n",
    "        b=temp\n",
    "      \n",
    "        return a,b\n",
    "s=swap\n",
    "s.test1(1,2)\n",
    "        \n"
   ]
  },
  {
   "cell_type": "code",
   "execution_count": 47,
   "id": "5b5b656e",
   "metadata": {},
   "outputs": [
    {
     "name": "stdout",
     "output_type": "stream",
     "text": [
      "9\n",
      "77\n"
     ]
    }
   ],
   "source": [
    "##Write a Python program to generate a random number?\n",
    "import random\n",
    "\n",
    "def test2():\n",
    "     print(random.randrange(0,43))\n",
    "     print(random.choice([4,5,6,7,12,67,45,77,90]))\n",
    "test2()\n",
    "         \n",
    "       \n",
    "        \n",
    "\n",
    "        "
   ]
  }
 ],
 "metadata": {
  "kernelspec": {
   "display_name": "Python 3",
   "language": "python",
   "name": "python3"
  },
  "language_info": {
   "codemirror_mode": {
    "name": "ipython",
    "version": 3
   },
   "file_extension": ".py",
   "mimetype": "text/x-python",
   "name": "python",
   "nbconvert_exporter": "python",
   "pygments_lexer": "ipython3",
   "version": "3.8.8"
  }
 },
 "nbformat": 4,
 "nbformat_minor": 5
}
