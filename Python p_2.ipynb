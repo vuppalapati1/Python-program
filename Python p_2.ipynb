{
 "cells": [
  {
   "cell_type": "code",
   "execution_count": 1,
   "id": "ffbe90dd",
   "metadata": {},
   "outputs": [
    {
     "data": {
      "text/plain": [
       "3.106855"
      ]
     },
     "execution_count": 1,
     "metadata": {},
     "output_type": "execute_result"
    }
   ],
   "source": [
    "##Write a Python program to convert kilometers to miles?\n",
    "class convert:\n",
    "    def kltom(x):\n",
    "        return (0.621371)*x\n",
    "a=convert\n",
    "a.kltom(5)\n",
    "    \n",
    "     "
   ]
  },
  {
   "cell_type": "code",
   "execution_count": 2,
   "id": "8d2c7afe",
   "metadata": {},
   "outputs": [
    {
     "data": {
      "text/plain": [
       "41.0"
      ]
     },
     "execution_count": 2,
     "metadata": {},
     "output_type": "execute_result"
    }
   ],
   "source": [
    "##Write a Python program to convert Celsius to Fahrenheit?\n",
    "class celsius:\n",
    "    def test(x):\n",
    "       \n",
    "        return (x*9/5)+32\n",
    "b=celsius\n",
    "b.test(5)"
   ]
  },
  {
   "cell_type": "code",
   "execution_count": 3,
   "id": "25efd157",
   "metadata": {},
   "outputs": [
    {
     "name": "stdout",
     "output_type": "stream",
     "text": [
      "Enter year2025\n",
      "enter month12\n",
      "   December 2025\n",
      "Mo Tu We Th Fr Sa Su\n",
      " 1  2  3  4  5  6  7\n",
      " 8  9 10 11 12 13 14\n",
      "15 16 17 18 19 20 21\n",
      "22 23 24 25 26 27 28\n",
      "29 30 31\n",
      "\n"
     ]
    }
   ],
   "source": [
    "##Write a Python program to display calendar?\n",
    "import calendar\n",
    "class cal:\n",
    "    def test3():\n",
    "        y=int(input(\"Enter year\"))\n",
    "        m=int(input(\"enter month\"))\n",
    "        print(calendar.month(y,m))\n",
    "c=cal\n",
    "c.test3()\n"
   ]
  },
  {
   "cell_type": "code",
   "execution_count": 2,
   "id": "5afcaab2",
   "metadata": {},
   "outputs": [
    {
     "name": "stdout",
     "output_type": "stream",
     "text": [
      "6\n",
      "11\n",
      "-35\n",
      "1.6666666666666667 -3.5\n"
     ]
    }
   ],
   "source": [
    "##Write a Python program to solve quadratic equation?\n",
    "import math\n",
    "class quadratic:\n",
    "    def test4():\n",
    "        a=int(input())\n",
    "        b=int(input())\n",
    "        c=int(input())\n",
    "\n",
    "\n",
    "\n",
    "        y=(-b+math.sqrt((b**2)-(4*a*c)))/(2*a)\n",
    "        z=(-b-math.sqrt((b**2)-(4*a*c)))/(2*a)\n",
    "        print(y,z)\n",
    "e=quadratic\n",
    "e.test4()\n",
    "        \n",
    "\n",
    "        \n"
   ]
  },
  {
   "cell_type": "code",
   "execution_count": 8,
   "id": "881ff52a",
   "metadata": {},
   "outputs": [
    {
     "name": "stdout",
     "output_type": "stream",
     "text": [
      "12\n",
      "4\n",
      "[4, 12]\n"
     ]
    }
   ],
   "source": [
    "##Write a Python program to swap two variables without temp variable?\n",
    "class swap:\n",
    "    def test5():\n",
    "        a=int(input())\n",
    "        b=int(input())\n",
    "        z=[a,b]\n",
    "        print(z[::-1])\n",
    "f=swap\n",
    "f.test5()\n",
    "\n",
    "\n",
    "\n",
    "\n",
    "    \n",
    "\n"
   ]
  }
 ],
 "metadata": {
  "kernelspec": {
   "display_name": "Python 3",
   "language": "python",
   "name": "python3"
  },
  "language_info": {
   "codemirror_mode": {
    "name": "ipython",
    "version": 3
   },
   "file_extension": ".py",
   "mimetype": "text/x-python",
   "name": "python",
   "nbconvert_exporter": "python",
   "pygments_lexer": "ipython3",
   "version": "3.8.8"
  }
 },
 "nbformat": 4,
 "nbformat_minor": 5
}
