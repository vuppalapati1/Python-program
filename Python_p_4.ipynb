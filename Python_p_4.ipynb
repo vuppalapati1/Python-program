{
 "cells": [
  {
   "cell_type": "code",
   "execution_count": 6,
   "id": "954ef875",
   "metadata": {},
   "outputs": [
    {
     "data": {
      "text/plain": [
       "39916800"
      ]
     },
     "execution_count": 6,
     "metadata": {},
     "output_type": "execute_result"
    }
   ],
   "source": [
    "##Write a Python Program to Find the Factorial of a Number?\n",
    "class fact:\n",
    "    def test(x):\n",
    "        count=1\n",
    "        for i in range(1,x+1):\n",
    "            count=count*i\n",
    "        return count\n",
    "a=fact\n",
    "a.test(11)"
   ]
  },
  {
   "cell_type": "code",
   "execution_count": 13,
   "id": "d3620092",
   "metadata": {},
   "outputs": [
    {
     "name": "stdout",
     "output_type": "stream",
     "text": [
      "10 multiplied by 1 = 10\n",
      "10 multiplied by 2 = 20\n",
      "10 multiplied by 3 = 30\n",
      "10 multiplied by 4 = 40\n",
      "10 multiplied by 5 = 50\n",
      "10 multiplied by 6 = 60\n",
      "10 multiplied by 7 = 70\n",
      "10 multiplied by 8 = 80\n",
      "10 multiplied by 9 = 90\n",
      "10 multiplied by 10 = 100\n"
     ]
    }
   ],
   "source": [
    "##Write a Python Program to Display the multiplication Table?\n",
    "class mul:\n",
    "    def test1(x):\n",
    "        for i in range(1,10+1):\n",
    "            print(x,\"multiplied by\",i, \"=\", i*x)\n",
    "b=mul\n",
    "b.test1(10)\n"
   ]
  },
  {
   "cell_type": "code",
   "execution_count": 20,
   "id": "a69855e1",
   "metadata": {},
   "outputs": [
    {
     "data": {
      "text/plain": [
       "[0, 1, 1, 2, 3, 5, 8]"
      ]
     },
     "execution_count": 20,
     "metadata": {},
     "output_type": "execute_result"
    }
   ],
   "source": [
    "##Write a Python Program to Print the Fibonacci sequence?\n",
    "class fib:\n",
    "    def test2(n):\n",
    "        l=[0,1]\n",
    "        f0=0\n",
    "        f1=1\n",
    "        for i in range(0,n-2):\n",
    "            f2=f0+f1\n",
    "            l.append(f2)\n",
    "            f0=f1\n",
    "            f1=f2\n",
    "        return l\n",
    "c=fib\n",
    "c.test2(7)\n",
    "            \n"
   ]
  },
  {
   "cell_type": "code",
   "execution_count": 19,
   "id": "b9524cd7",
   "metadata": {},
   "outputs": [
    {
     "name": "stdout",
     "output_type": "stream",
     "text": [
      "Amstrong\n"
     ]
    }
   ],
   "source": [
    "##Write a Python Program to Check Armstrong Number?\n",
    "class Amstrong:\n",
    "    def test3(n):\n",
    "        c=0\n",
    "        k=len(str(n))\n",
    "        for i in str(n):\n",
    "            c=c+int(i)**k\n",
    "        if c==n:\n",
    "            print(\"Amstrong\")\n",
    "        else:\n",
    "            print(\"not amstrong\")\n",
    "d=Amstrong\n",
    "d.test3(1634)"
   ]
  },
  {
   "cell_type": "code",
   "execution_count": 29,
   "id": "b5faeca8",
   "metadata": {},
   "outputs": [
    {
     "name": "stdout",
     "output_type": "stream",
     "text": [
      "1\n",
      "2\n",
      "3\n",
      "4\n",
      "5\n",
      "6\n",
      "7\n",
      "8\n",
      "9\n",
      "153\n",
      "370\n",
      "371\n",
      "407\n",
      "1634\n",
      "8208\n",
      "9474\n"
     ]
    }
   ],
   "source": [
    "##Write a Python Program to Find Armstrong Number in an Interval?\n",
    "class Amstrongs:\n",
    "    def test4(n):\n",
    "        for i in range(1,n+1):\n",
    "            c=0\n",
    "            k=len(str(i))\n",
    "            for j in str(i):\n",
    "                c=c+int(j)**k\n",
    "            if c==i:\n",
    "                print(i)\n",
    "            \n",
    "        \n",
    "        \n",
    "        \n",
    "            \n",
    "        \n",
    "        \n",
    "e=Amstrongs\n",
    "e.test4(9999)\n"
   ]
  },
  {
   "cell_type": "code",
   "execution_count": 31,
   "id": "2209e96f",
   "metadata": {},
   "outputs": [
    {
     "name": "stdout",
     "output_type": "stream",
     "text": [
      "5050\n"
     ]
    }
   ],
   "source": [
    "##Write a Python Program to Find the Sum of Natural Numbers?\n",
    "class Natural:\n",
    "    def test5(n):\n",
    "        c=0\n",
    "        \n",
    "        for i in range(1,n+1):\n",
    "            c=c+i\n",
    "        print(c)\n",
    "d=Natural\n",
    "d.test5(100)\n"
   ]
  },
  {
   "cell_type": "code",
   "execution_count": null,
   "id": "9f46f584",
   "metadata": {},
   "outputs": [],
   "source": []
  }
 ],
 "metadata": {
  "kernelspec": {
   "display_name": "Python 3",
   "language": "python",
   "name": "python3"
  },
  "language_info": {
   "codemirror_mode": {
    "name": "ipython",
    "version": 3
   },
   "file_extension": ".py",
   "mimetype": "text/x-python",
   "name": "python",
   "nbconvert_exporter": "python",
   "pygments_lexer": "ipython3",
   "version": "3.8.8"
  }
 },
 "nbformat": 4,
 "nbformat_minor": 5
}
